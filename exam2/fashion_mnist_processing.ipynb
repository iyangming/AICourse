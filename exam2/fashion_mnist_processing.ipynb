{
 "cells": [
  {
   "cell_type": "code",
   "execution_count": 1,
   "id": "89e29e95",
   "metadata": {},
   "outputs": [
    {
     "name": "stderr",
     "output_type": "stream",
     "text": [
      "Exception ignored in: <bound method IPythonKernel._clean_thread_parent_frames of <ipykernel.ipkernel.IPythonKernel object at 0x105db7d90>>\n",
      "Traceback (most recent call last):\n",
      "  File \"/Users/mingyang/anaconda3/envs/ms/lib/python3.8/site-packages/ipykernel/ipkernel.py\", line 775, in _clean_thread_parent_frames\n",
      "    def _clean_thread_parent_frames(\n",
      "KeyboardInterrupt: \n"
     ]
    },
    {
     "ename": "ModuleNotFoundError",
     "evalue": "No module named 'tensorflow'",
     "output_type": "error",
     "traceback": [
      "\u001b[0;31m---------------------------------------------------------------------------\u001b[0m",
      "\u001b[0;31mModuleNotFoundError\u001b[0m                       Traceback (most recent call last)",
      "Cell \u001b[0;32mIn[1], line 3\u001b[0m\n\u001b[1;32m      1\u001b[0m \u001b[38;5;28;01mimport\u001b[39;00m \u001b[38;5;21;01mnumpy\u001b[39;00m \u001b[38;5;28;01mas\u001b[39;00m \u001b[38;5;21;01mnp\u001b[39;00m\n\u001b[1;32m      2\u001b[0m \u001b[38;5;28;01mimport\u001b[39;00m \u001b[38;5;21;01mmatplotlib\u001b[39;00m\u001b[38;5;21;01m.\u001b[39;00m\u001b[38;5;21;01mpyplot\u001b[39;00m \u001b[38;5;28;01mas\u001b[39;00m \u001b[38;5;21;01mplt\u001b[39;00m\n\u001b[0;32m----> 3\u001b[0m \u001b[38;5;28;01mfrom\u001b[39;00m \u001b[38;5;21;01mtensorflow\u001b[39;00m\u001b[38;5;21;01m.\u001b[39;00m\u001b[38;5;21;01mkeras\u001b[39;00m\u001b[38;5;21;01m.\u001b[39;00m\u001b[38;5;21;01mdatasets\u001b[39;00m \u001b[38;5;28;01mimport\u001b[39;00m fashion_mnist\n\u001b[1;32m      4\u001b[0m \u001b[38;5;28;01mfrom\u001b[39;00m \u001b[38;5;21;01mscipy\u001b[39;00m\u001b[38;5;21;01m.\u001b[39;00m\u001b[38;5;21;01mndimage\u001b[39;00m \u001b[38;5;28;01mimport\u001b[39;00m rotate, zoom\n\u001b[1;32m      5\u001b[0m \u001b[38;5;28;01mimport\u001b[39;00m \u001b[38;5;21;01mrandom\u001b[39;00m\n",
      "\u001b[0;31mModuleNotFoundError\u001b[0m: No module named 'tensorflow'"
     ]
    }
   ],
   "source": [
    "import numpy as np\n",
    "import matplotlib.pyplot as plt\n",
    "from tensorflow.keras.datasets import fashion_mnist\n",
    "from scipy.ndimage import rotate, zoom\n",
    "import random"
   ]
  },
  {
   "cell_type": "code",
   "execution_count": null,
   "id": "507375bf",
   "metadata": {},
   "outputs": [],
   "source": [
    "# 下载并加载数据\n",
    "(train_x, train_y), (test_x, test_y) = fashion_mnist.load_data()"
   ]
  },
  {
   "cell_type": "code",
   "execution_count": null,
   "id": "90d9fab6",
   "metadata": {},
   "outputs": [],
   "source": [
    "# 查看数据集信息\n",
    "print(\"训练集样本数：\", train_x.shape[0], \"形状：\", train_x.shape[1:])\n",
    "print(\"测试集样本数：\", test_x.shape[0], \"形状：\", test_x.shape[1:])\n",
    "label_names = [\n",
    "    \"T-shirt/top\", \"Trouser\", \"Pullover\", \"Dress\", \"Coat\",\n",
    "    \"Sandal\", \"Shirt\", \"Sneaker\", \"Bag\", \"Ankle boot\"\n",
    "]\n",
    "print(\"标签类别：\", label_names)"
   ]
  },
  {
   "cell_type": "code",
   "execution_count": null,
   "id": "7b4489f5",
   "metadata": {},
   "outputs": [],
   "source": [
    "# 提取索引为0和8的图片\n",
    "img_0 = train_x[0]\n",
    "img_8 = train_x[8]"
   ]
  },
  {
   "cell_type": "code",
   "execution_count": null,
   "id": "1328e937",
   "metadata": {},
   "outputs": [],
   "source": [
    "# 局部采样函数\n",
    "def sample_image(img, step):\n",
    "    sampled_img = np.zeros_like(img)\n",
    "    sampled_img[::step, :] = img[::step, :]\n",
    "    return sampled_img"
   ]
  },
  {
   "cell_type": "code",
   "execution_count": null,
   "id": "a5eef895",
   "metadata": {},
   "outputs": [],
   "source": [
    "sample2 = sample_image(img_0, 2)\n",
    "sample4 = sample_image(img_0, 4)"
   ]
  },
  {
   "cell_type": "code",
   "execution_count": null,
   "id": "462a1862",
   "metadata": {},
   "outputs": [],
   "source": [
    "plt.figure(figsize=(10, 3))\n",
    "plt.subplot(1, 3, 1)\n",
    "plt.imshow(img_0, cmap='gray')\n",
    "plt.title('原图')\n",
    "plt.axis('off')"
   ]
  },
  {
   "cell_type": "code",
   "execution_count": null,
   "id": "8579f78c",
   "metadata": {},
   "outputs": [],
   "source": [
    "plt.subplot(1, 3, 2)\n",
    "plt.imshow(sample2, cmap='gray')\n",
    "plt.title('隔2行采样')\n",
    "plt.axis('off')"
   ]
  },
  {
   "cell_type": "code",
   "execution_count": null,
   "id": "9a16635d",
   "metadata": {},
   "outputs": [],
   "source": [
    "plt.subplot(1, 3, 3)\n",
    "plt.imshow(sample4, cmap='gray')\n",
    "plt.title('隔4行采样')\n",
    "plt.axis('off')"
   ]
  },
  {
   "cell_type": "code",
   "execution_count": null,
   "id": "7a910996",
   "metadata": {},
   "outputs": [],
   "source": [
    "plt.tight_layout()\n",
    "plt.show()"
   ]
  },
  {
   "cell_type": "code",
   "execution_count": null,
   "id": "bedd6a50",
   "metadata": {},
   "outputs": [],
   "source": [
    "# 图像增强函数\n",
    "def augment_image(img):\n",
    "    return [\n",
    "        img,\n",
    "        np.transpose(img),\n",
    "        np.flipud(img),\n",
    "        np.fliplr(img),\n",
    "        rotate(img, angle=-10, reshape=False, mode='constant', cval=0),\n",
    "        rotate(img, angle=10, reshape=False, mode='constant', cval=0)\n",
    "    ]"
   ]
  },
  {
   "cell_type": "code",
   "execution_count": null,
   "id": "feca4eb5",
   "metadata": {},
   "outputs": [],
   "source": [
    "train_x_aug1 = []\n",
    "for i in range(10):\n",
    "    augmented = augment_image(train_x[i])\n",
    "    train_x_aug1.append(augmented)\n",
    "train_x_aug1 = np.array(train_x_aug1)"
   ]
  },
  {
   "cell_type": "code",
   "execution_count": null,
   "id": "2f59ce91",
   "metadata": {},
   "outputs": [],
   "source": [
    "# 显示10×6子图\n",
    "titles = [\"原图\", \"转置\", \"上下翻转\", \"水平镜像\", \"逆时针10°\", \"顺时针10°\"]\n",
    "plt.figure(figsize=(12, 16))\n",
    "for i in range(10):\n",
    "    for j in range(6):\n",
    "        plt.subplot(10, 6, i * 6 + j + 1)\n",
    "        plt.imshow(train_x_aug1[i, j], cmap='gray')\n",
    "        plt.axis('off')\n",
    "        if i == 0:\n",
    "            plt.title(titles[j], fontsize=10, color='blue')\n",
    "plt.suptitle(\"Fashion MNIST数据增强\", fontsize=16, color='darkred')\n",
    "plt.tight_layout(rect=[0, 0, 1, 0.97])\n",
    "plt.show()"
   ]
  },
  {
   "cell_type": "code",
   "execution_count": null,
   "id": "a4c06b32",
   "metadata": {},
   "outputs": [],
   "source": [
    "# 随机旋转增强 train_x_aug2\n",
    "train_x_aug2 = []\n",
    "for i in range(10):\n",
    "    img = train_x[i]\n",
    "    for _ in range(2):\n",
    "        angle = random.uniform(-30, 30)\n",
    "        img_rot = rotate(img, angle=angle, reshape=False, mode='constant', cval=0)\n",
    "        train_x_aug2.append(img_rot)\n",
    "train_x_aug2 = np.array(train_x_aug2)"
   ]
  },
  {
   "cell_type": "code",
   "execution_count": null,
   "id": "ac7206ca",
   "metadata": {},
   "outputs": [],
   "source": [
    "plt.figure(figsize=(8, 5))\n",
    "for i in range(10):\n",
    "    plt.subplot(2, 5, i+1)\n",
    "    plt.imshow(train_x_aug2[i], cmap='gray')\n",
    "    plt.axis('off')\n",
    "plt.suptitle(\"前10张图像的随机旋转结果\", fontsize=14)\n",
    "plt.tight_layout()\n",
    "plt.show()"
   ]
  },
  {
   "cell_type": "code",
   "execution_count": null,
   "id": "4f8d5b13",
   "metadata": {},
   "outputs": [],
   "source": [
    "# train_x_aug3 - 随机变换\n",
    "def random_transform(img):\n",
    "    transforms = [\n",
    "        lambda x: np.transpose(x),\n",
    "        lambda x: np.flipud(x),\n",
    "        lambda x: np.fliplr(x),\n",
    "        lambda x: rotate(x, angle=random.choice([-15, 15]), reshape=False, mode='constant', cval=0)\n",
    "    ]\n",
    "    selected = random.sample(transforms, 3)\n",
    "    return [f(img) for f in selected]"
   ]
  },
  {
   "cell_type": "code",
   "execution_count": null,
   "id": "5b9b2b55",
   "metadata": {},
   "outputs": [],
   "source": [
    "train_x_aug3 = []\n",
    "for i in range(100):\n",
    "    aug = random_transform(train_x[i])\n",
    "    train_x_aug3.append(aug)\n",
    "train_x_aug3 = np.array(train_x_aug3)"
   ]
  },
  {
   "cell_type": "code",
   "execution_count": null,
   "id": "7260b6dc",
   "metadata": {},
   "outputs": [],
   "source": [
    "# 展示随机10张图及其增强\n",
    "plt.figure(figsize=(10, 5))\n",
    "for i in range(10):\n",
    "    plt.subplot(4, 5, i+1)\n",
    "    plt.imshow(train_x[i], cmap='gray')\n",
    "    plt.title(\"原图\")\n",
    "    plt.axis('off')\n",
    "    for j in range(3):\n",
    "        plt.subplot(4, 5, 10 + i+1 + j*10)\n",
    "        plt.imshow(train_x_aug3[i, j], cmap='gray')\n",
    "        plt.axis('off')\n",
    "plt.suptitle(\"随机选择的10张图像及其增强效果\", fontsize=14)\n",
    "plt.tight_layout(rect=[0, 0, 1, 0.95])\n",
    "plt.show()"
   ]
  },
  {
   "cell_type": "code",
   "execution_count": null,
   "id": "de841d55",
   "metadata": {},
   "outputs": [],
   "source": [
    "# 缩放保持28x28函数\n",
    "def resize_to_28x28(img, scale):\n",
    "    h, w = img.shape\n",
    "    img_scaled = zoom(img, zoom=scale)\n",
    "    sh, sw = img_scaled.shape\n",
    "    result = np.zeros((28, 28))\n",
    "    start_h = (28 - sh) // 2\n",
    "    start_w = (28 - sw) // 2\n",
    "    end_h = start_h + sh\n",
    "    end_w = start_w + sw\n",
    "    result[start_h:end_h, start_w:end_w] = img_scaled\n",
    "    return result"
   ]
  },
  {
   "cell_type": "code",
   "execution_count": null,
   "id": "2fb16ecb",
   "metadata": {},
   "outputs": [],
   "source": [
    "img = train_x[0]\n",
    "smaller = resize_to_28x28(img, 0.9)\n",
    "larger = resize_to_28x28(img, 1.1)"
   ]
  },
  {
   "cell_type": "code",
   "execution_count": null,
   "id": "62513962",
   "metadata": {},
   "outputs": [],
   "source": [
    "plt.figure(figsize=(10, 3))\n",
    "plt.subplot(1, 3, 1)\n",
    "plt.imshow(img, cmap='gray')\n",
    "plt.title(\"原图\")\n",
    "plt.axis('off')"
   ]
  },
  {
   "cell_type": "code",
   "execution_count": null,
   "id": "61e2be1e",
   "metadata": {},
   "outputs": [],
   "source": [
    "plt.subplot(1, 3, 2)\n",
    "plt.imshow(smaller, cmap='gray')\n",
    "plt.title(\"缩小10%\")\n",
    "plt.axis('off')"
   ]
  },
  {
   "cell_type": "code",
   "execution_count": null,
   "id": "07f4f681",
   "metadata": {},
   "outputs": [],
   "source": [
    "plt.subplot(1, 3, 3)\n",
    "plt.imshow(larger, cmap='gray')\n",
    "plt.title(\"放大10%\")\n",
    "plt.axis('off')\n",
    "plt.tight_layout()\n",
    "plt.show()"
   ]
  }
 ],
 "metadata": {
  "kernelspec": {
   "display_name": "ms",
   "language": "python",
   "name": "python3"
  },
  "language_info": {
   "codemirror_mode": {
    "name": "ipython",
    "version": 3
   },
   "file_extension": ".py",
   "mimetype": "text/x-python",
   "name": "python",
   "nbconvert_exporter": "python",
   "pygments_lexer": "ipython3",
   "version": "3.8.19"
  }
 },
 "nbformat": 4,
 "nbformat_minor": 5
}
