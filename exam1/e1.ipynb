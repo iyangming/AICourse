{
 "cells": [
  {
   "cell_type": "code",
   "execution_count": null,
   "metadata": {},
   "outputs": [],
   "source": [
    "import matplotlib.pyplot as plt\n",
    "import numpy as np\n",
    "from matplotlib import font_manager"
   ]
  },
  {
   "cell_type": "markdown",
   "metadata": {},
   "source": [
    "### 设置中文字体（防止乱码）"
   ]
  },
  {
   "cell_type": "code",
   "execution_count": null,
   "metadata": {},
   "outputs": [],
   "source": [
    "plt.rcParams['font.family'] = 'Noto Sans CJK SC'\n",
    "plt.rcParams['axes.unicode_minus'] = False  # 解决负号显示问题"
   ]
  },
  {
   "cell_type": "markdown",
   "metadata": {},
   "source": [
    "### 数据准备"
   ]
  },
  {
   "cell_type": "code",
   "execution_count": null,
   "metadata": {},
   "outputs": [],
   "source": [
    "years = np.array([\n",
    "    2007, 2008, 2009, 2010, 2011, 2012,\n",
    "    2013, 2014, 2015, 2016, 2017, 2018,\n",
    "    2019, 2020, 2021, 2022\n",
    "])\n",
    "gdp = np.array([\n",
    "    27.0092, 31.9244, 34.8517, 41.2119, 48.7940, 53.8580,\n",
    "    59.2963, 64.3563, 68.8858, 74.6395, 83.2035, 91.9281,\n",
    "    98.6515, 101, 114, 121\n",
    "])"
   ]
  },
  {
   "cell_type": "markdown",
   "metadata": {},
   "source": [
    "### 增速计算"
   ]
  },
  {
   "cell_type": "code",
   "execution_count": null,
   "metadata": {},
   "outputs": [],
   "source": [
    "growth_rate = [23.1]  # 2007年给定\n",
    "growth_rate += list(((gdp[1:] - gdp[:-1]) / gdp[:-1]) * 100)"
   ]
  },
  {
   "cell_type": "markdown",
   "metadata": {},
   "source": [
    "### 数据可视化"
   ]
  },
  {
   "cell_type": "code",
   "execution_count": null,
   "metadata": {},
   "outputs": [],
   "source": [
    "fig, ax1 = plt.subplots(figsize=(12, 6))\n",
    "\n",
    "# 灰色柱状图表示GDP\n",
    "bars = ax1.bar(years, gdp, color='gray', width=0.6)\n",
    "ax1.set_ylabel(\"GDP (trillion yuan)\", fontsize=12)\n",
    "ax1.set_title(\"GDP and Growth Rate Statistics 2007-2022\", fontsize=16, color='black')\n",
    "\n",
    "# 每个柱子上显示GDP数值\n",
    "for bar in bars:\n",
    "    height = bar.get_height()\n",
    "    ax1.text(bar.get_x() + bar.get_width()/2, height + 1,\n",
    "             f'{height:.1f}', ha='center', va='bottom', fontsize=8)\n",
    "\n",
    "# 创建第二个Y轴绘制折线图\n",
    "ax2 = ax1.twinx()\n",
    "ax2.plot(years, growth_rate, color='blue', linewidth=2.5, marker='o', label='GDP Growth Rate (%)')\n",
    "ax2.set_ylabel(\"GDP Growth Rate (%)\", fontsize=12)\n",
    "\n",
    "# 每个点上显示增速百分比\n",
    "for i, rate in enumerate(growth_rate):\n",
    "    ax2.text(years[i], rate + 0.5, f'{rate:.1f}%', ha='center', fontsize=8, color='blue')\n",
    "\n",
    "# 网格、布局和显示\n",
    "plt.grid(True, linestyle='--', alpha=0.3)\n",
    "plt.tight_layout()\n",
    "plt.show()"
   ]
  }
 ],
 "metadata": {
  "kernelspec": {
   "display_name": "Python 3",
   "language": "python",
   "name": "python3"
  },
  "language_info": {
   "codemirror_mode": {
    "name": "ipython",
    "version": 3
   },
   "file_extension": ".py",
   "mimetype": "text/x-python",
   "name": "python",
   "nbconvert_exporter": "python",
   "pygments_lexer": "ipython3",
   "version": "3.9.7"
  }
 },
 "nbformat": 4,
 "nbformat_minor": 4
}