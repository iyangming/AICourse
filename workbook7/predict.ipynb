{
 "cells": [
  {
   "cell_type": "code",
   "execution_count": 1,
   "metadata": {},
   "outputs": [],
   "source": [
    "import os\n",
    "import numpy as np\n",
    "from PIL import Image\n",
    "from tensorflow.keras.models import load_model\n",
    "from tensorflow.keras.utils import to_categorical"
   ]
  },
  {
   "cell_type": "code",
   "execution_count": 2,
   "metadata": {},
   "outputs": [],
   "source": [
    "# 加载模型\n",
    "model = load_model('best_mnist_model.h5')"
   ]
  },
  {
   "cell_type": "code",
   "execution_count": 3,
   "metadata": {},
   "outputs": [],
   "source": [
    "def preprocess_image(img_path):\n",
    "    # 加载图像，灰度\n",
    "    img = Image.open(img_path).convert('L')\n",
    "    # 缩放到28x28\n",
    "    img = img.resize((28, 28))\n",
    "    # 二值化（黑白）\n",
    "    img = img.convert('1', dither=Image.NONE)\n",
    "    # 反色处理，转成 numpy 数组，归一化\n",
    "    img_array = 1.0 - np.asarray(img).astype(np.float32) / 255.0\n",
    "    # 保持28x28输入形状\n",
    "    return img_array"
   ]
  },
  {
   "cell_type": "code",
   "execution_count": 4,
   "metadata": {},
   "outputs": [],
   "source": [
    "def load_dataset(folder_path, labels_dict=None):\n",
    "    images = []\n",
    "    labels = []\n",
    "    for filename in os.listdir(folder_path):\n",
    "        if filename.endswith('.png') or filename.endswith('.jpg'):\n",
    "            path = os.path.join(folder_path, filename)\n",
    "            img_array = preprocess_image(path)\n",
    "            images.append(img_array)\n",
    "            if labels_dict is not None:\n",
    "                # 从文件名或labels_dict映射得到标签\n",
    "                label = labels_dict.get(filename, None)\n",
    "                if label is not None:\n",
    "                    labels.append(label)\n",
    "    images = np.array(images)\n",
    "    images = images.reshape((-1, 28, 28))\n",
    "    if labels:\n",
    "        labels = to_categorical(labels, 10)\n",
    "        return images, labels\n",
    "    else:\n",
    "        return images"
   ]
  },
  {
   "cell_type": "code",
   "execution_count": 5,
   "metadata": {},
   "outputs": [],
   "source": [
    "def evaluate_on_dataset(folder_path, labels_dict=None):\n",
    "    data = load_dataset(folder_path, labels_dict)\n",
    "    if labels_dict is not None:\n",
    "        x_test, y_test = data\n",
    "        y_pred = model.predict(x_test)\n",
    "        y_pred_labels = np.argmax(y_pred, axis=1)\n",
    "        y_true_labels = np.argmax(y_test, axis=1)\n",
    "        accuracy = np.mean(y_pred_labels == y_true_labels)\n",
    "        print(f\"Dataset: {folder_path} - Accuracy: {accuracy:.4f}\")\n",
    "        return accuracy, y_pred_labels, y_true_labels\n",
    "    else:\n",
    "        # 无标签时直接预测\n",
    "        x_test = data\n",
    "        y_pred = model.predict(x_test)\n",
    "        y_pred_labels = np.argmax(y_pred, axis=1)\n",
    "        print(f\"Dataset: {folder_path} - Prediction done.\")\n",
    "        return y_pred_labels"
   ]
  },
  {
   "cell_type": "code",
   "execution_count": 6,
   "metadata": {},
   "outputs": [],
   "source": [
    "# 假设你有对应的标签字典（文件名 -> 数字标签）\n",
    "# 例如：labels_a = {'img1.png': 3, 'img2.png': 7, ...}\n",
    "# 这里用示例字典，需要替换成你的实际标签\n",
    "labels_a = {}\n",
    "labels_b = {}\n",
    "labels_c = {}\n"
   ]
  },
  {
   "cell_type": "code",
   "execution_count": null,
   "metadata": {},
   "outputs": [
    {
     "name": "stdout",
     "output_type": "stream",
     "text": [
      "Evaluating dataset a group\n"
     ]
    },
    {
     "ename": "FileNotFoundError",
     "evalue": "[Errno 2] No such file or directory: 'path_to_a_group_folder'",
     "output_type": "error",
     "traceback": [
      "\u001b[0;31m---------------------------------------------------------------------------\u001b[0m",
      "\u001b[0;31mFileNotFoundError\u001b[0m                         Traceback (most recent call last)",
      "Cell \u001b[0;32mIn[7], line 3\u001b[0m\n\u001b[1;32m      1\u001b[0m \u001b[38;5;66;03m# (1) 自制手写数字-a组\u001b[39;00m\n\u001b[1;32m      2\u001b[0m \u001b[38;5;28mprint\u001b[39m(\u001b[38;5;124m\"\u001b[39m\u001b[38;5;124mEvaluating dataset a group\u001b[39m\u001b[38;5;124m\"\u001b[39m)\n\u001b[0;32m----> 3\u001b[0m accuracy_a, pred_a, true_a \u001b[38;5;241m=\u001b[39m \u001b[43mevaluate_on_dataset\u001b[49m\u001b[43m(\u001b[49m\u001b[38;5;124;43m'\u001b[39;49m\u001b[38;5;124;43mpath_to_a_group_folder\u001b[39;49m\u001b[38;5;124;43m'\u001b[39;49m\u001b[43m,\u001b[49m\u001b[43m \u001b[49m\u001b[43mlabels_a\u001b[49m\u001b[43m)\u001b[49m\n",
      "Cell \u001b[0;32mIn[5], line 2\u001b[0m, in \u001b[0;36mevaluate_on_dataset\u001b[0;34m(folder_path, labels_dict)\u001b[0m\n\u001b[1;32m      1\u001b[0m \u001b[38;5;28;01mdef\u001b[39;00m\u001b[38;5;250m \u001b[39m\u001b[38;5;21mevaluate_on_dataset\u001b[39m(folder_path, labels_dict\u001b[38;5;241m=\u001b[39m\u001b[38;5;28;01mNone\u001b[39;00m):\n\u001b[0;32m----> 2\u001b[0m     data \u001b[38;5;241m=\u001b[39m \u001b[43mload_dataset\u001b[49m\u001b[43m(\u001b[49m\u001b[43mfolder_path\u001b[49m\u001b[43m,\u001b[49m\u001b[43m \u001b[49m\u001b[43mlabels_dict\u001b[49m\u001b[43m)\u001b[49m\n\u001b[1;32m      3\u001b[0m     \u001b[38;5;28;01mif\u001b[39;00m labels_dict \u001b[38;5;129;01mis\u001b[39;00m \u001b[38;5;129;01mnot\u001b[39;00m \u001b[38;5;28;01mNone\u001b[39;00m:\n\u001b[1;32m      4\u001b[0m         x_test, y_test \u001b[38;5;241m=\u001b[39m data\n",
      "Cell \u001b[0;32mIn[4], line 4\u001b[0m, in \u001b[0;36mload_dataset\u001b[0;34m(folder_path, labels_dict)\u001b[0m\n\u001b[1;32m      2\u001b[0m images \u001b[38;5;241m=\u001b[39m []\n\u001b[1;32m      3\u001b[0m labels \u001b[38;5;241m=\u001b[39m []\n\u001b[0;32m----> 4\u001b[0m \u001b[38;5;28;01mfor\u001b[39;00m filename \u001b[38;5;129;01min\u001b[39;00m \u001b[43mos\u001b[49m\u001b[38;5;241;43m.\u001b[39;49m\u001b[43mlistdir\u001b[49m\u001b[43m(\u001b[49m\u001b[43mfolder_path\u001b[49m\u001b[43m)\u001b[49m:\n\u001b[1;32m      5\u001b[0m     \u001b[38;5;28;01mif\u001b[39;00m filename\u001b[38;5;241m.\u001b[39mendswith(\u001b[38;5;124m'\u001b[39m\u001b[38;5;124m.png\u001b[39m\u001b[38;5;124m'\u001b[39m) \u001b[38;5;129;01mor\u001b[39;00m filename\u001b[38;5;241m.\u001b[39mendswith(\u001b[38;5;124m'\u001b[39m\u001b[38;5;124m.jpg\u001b[39m\u001b[38;5;124m'\u001b[39m):\n\u001b[1;32m      6\u001b[0m         path \u001b[38;5;241m=\u001b[39m os\u001b[38;5;241m.\u001b[39mpath\u001b[38;5;241m.\u001b[39mjoin(folder_path, filename)\n",
      "\u001b[0;31mFileNotFoundError\u001b[0m: [Errno 2] No such file or directory: 'path_to_a_group_folder'"
     ]
    }
   ],
   "source": [
    "# (1) 自制手写数字-a组\n",
    "print(\"Evaluating dataset a group\")\n",
    "accuracy_a, pred_a, true_a = evaluate_on_dataset('./images/agroup', labels_a)"
   ]
  }
 ],
 "metadata": {
  "kernelspec": {
   "display_name": "tf_env",
   "language": "python",
   "name": "python3"
  },
  "language_info": {
   "codemirror_mode": {
    "name": "ipython",
    "version": 3
   },
   "file_extension": ".py",
   "mimetype": "text/x-python",
   "name": "python",
   "nbconvert_exporter": "python",
   "pygments_lexer": "ipython3",
   "version": "3.10.13"
  }
 },
 "nbformat": 4,
 "nbformat_minor": 2
}
