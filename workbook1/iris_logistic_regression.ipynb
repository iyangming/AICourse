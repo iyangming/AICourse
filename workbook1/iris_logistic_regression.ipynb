{
 "cells": [
  {
   "cell_type": "markdown",
   "metadata": {},
   "source": [
    "# 鸢尾花数据集逻辑回归分析\n",
    "## 项目概述\n",
    "本Notebook演示如何使用逻辑回归模型对鸢尾花数据集中的setosa和virginica两类花进行分类。"
   ]
  },
  {
   "cell_type": "markdown",
   "metadata": {},
   "source": [
    "## 1. 导入必要的库"
   ]
  },
  {
   "cell_type": "code",
   "execution_count": null,
   "metadata": {},
   "outputs": [],
   "source": [
    "import pandas as pd\n",
    "import matplotlib.pyplot as plt\n",
    "import seaborn as sns\n",
    "from sklearn.datasets import load_iris\n",
    "from sklearn.model_selection import train_test_split\n",
    "from sklearn.preprocessing import StandardScaler\n",
    "from sklearn.linear_model import LogisticRegression\n",
    "from sklearn.metrics import log_loss, accuracy_score\n",
    "import numpy as np\n",
    "import time"
   ]
  },
  {
   "cell_type": "markdown",
   "metadata": {},
   "source": [
    "## 2. 数据加载"
   ]
  },
  {
   "cell_type": "code",
   "execution_count": null,
   "metadata": {},
   "outputs": [],
   "source": [
    "def load_data():\n",
    "    iris = load_iris()\n",
    "    df = pd.DataFrame(iris.data, columns=iris.feature_names)\n",
    "    df['target'] = iris.target\n",
    "    df['species'] = df['target'].apply(lambda x: iris.target_names[x])\n",
    "    return df"
   ]
  },
  {
   "cell_type": "markdown",
   "metadata": {},
   "source": [
    "## 3. 数据可视化"
   ]
  },
  {
   "cell_type": "code",
   "execution_count": null,
   "metadata": {},
   "outputs": [],
   "source": [
    "def visualize_data(df):\n",
    "    binary_df = df[df['species'].isin(['setosa', 'virginica'])]\n",
    "    sns.pairplot(binary_df, hue='species', diag_kind='hist')\n",
    "    plt.suptitle(\"Setosa vs Virginica\", y=1.02)\n",
    "    plt.tight_layout()\n",
    "    plt.savefig(\"pairplot.png\")\n",
    "    plt.close()"
   ]
  },
  {
   "cell_type": "markdown",
   "metadata": {},
   "source": [
    "## 4. 模型训练与评估"
   ]
  },
  {
   "cell_type": "code",
   "execution_count": null,
   "metadata": {},
   "outputs": [],
   "source": [
    "def train_model(df, learning_rate=None, max_iter=None):\n",
    "    binary_df = df[df['species'].isin(['setosa', 'virginica'])]\n",
    "    X = binary_df[['petal length (cm)', 'petal width (cm)']].values\n",
    "    y = binary_df['target'].values\n",
    "\n",
    "    X_train, X_test, y_train, y_test = train_test_split(X, y, test_size=0.3, random_state=42)\n",
    "    scaler = StandardScaler()\n",
    "    X_train_scaled = scaler.fit_transform(X_train)\n",
    "    X_test_scaled = scaler.transform(X_test)\n",
    "\n",
    "    model = LogisticRegression(solver='saga', max_iter=max_iter, C=1/learning_rate if learning_rate else 1.0)\n",
    "    start_time = time.time()\n",
    "    model.fit(X_train_scaled, y_train)\n",
    "    end_time = time.time()\n",
    "\n",
    "    y_train_pred = model.predict_proba(X_train_scaled)\n",
    "    y_test_pred = model.predict_proba(X_test_scaled)\n",
    "    train_loss = log_loss(y_train, y_train_pred)\n",
    "    test_loss = log_loss(y_test, y_test_pred)\n",
    "    train_acc = accuracy_score(y_train, np.argmax(y_train_pred, axis=1))\n",
    "    test_acc = accuracy_score(y_test, np.argmax(y_test_pred, axis=1))\n",
    "    training_time = end_time - start_time\n",
    "\n",
    "    return {\n",
    "        \"train_loss\": train_loss,\n",
    "        \"test_loss\": test_loss,\n",
    "        \"train_acc\": train_acc,\n",
    "        \"test_acc\": test_acc,\n",
    "        \"training_time\": training_time\n",
    "    }"
   ]
  },
  {
   "cell_type": "markdown",
   "metadata": {},
   "source": [
    "## 5. 执行主程序"
   ]
  },
  {
   "cell_type": "code",
   "execution_count": null,
   "metadata": {},
   "outputs": [],
   "source": [
    "def run_hyperparameter_experiment():\n",
    "    df = load_data()\n",
    "    visualize_data(df)\n",
    "    \n",
    "    learning_rates = [0.001, 0.01, 0.1, 1.0, 10.0]\n",
    "    max_iters = [50, 100, 200, 500]\n",
    "    \n",
    "    results = []\n",
    "    for lr in learning_rates:\n",
    "        for iters in max_iters:\n",
    "            result = train_model(df, learning_rate=lr, max_iter=iters)\n",
    "            result['learning_rate'] = lr\n",
    "            result['max_iter'] = iters\n",
    "            results.append(result)\n",
    "    \n",
    "    # 转换为DataFrame便于分析\n",
    "    df_results = pd.DataFrame(results)\n",
    "    \n",
    "    # 绘制学习率对损失的影响\n",
    "    plt.figure(figsize=(12, 6))\n",
    "    sns.lineplot(data=df_results, x='learning_rate', y='test_loss', hue='max_iter', marker='o')\n",
    "    plt.xscale('log')\n",
    "    plt.title('Test Loss vs Learning Rate (by Max Iterations)')\n",
    "    plt.xlabel('Learning Rate (log scale)')\n",
    "    plt.ylabel('Test Loss')\n",
    "    plt.savefig('learning_rate_vs_loss.png')\n",
    "    plt.close()\n",
    "    \n",
    "    # 绘制迭代次数对准确率的影响\n",
    "    plt.figure(figsize=(12, 6))\n",
    "    sns.lineplot(data=df_results, x='max_iter', y='test_acc', hue='learning_rate', marker='o')\n",
    "    plt.title('Test Accuracy vs Max Iterations (by Learning Rate)')\n",
    "    plt.xlabel('Max Iterations')\n",
    "    plt.ylabel('Test Accuracy')\n",
    "    plt.savefig('max_iter_vs_accuracy.png')\n",
    "    plt.close()\n",
    "    \n",
    "    # 找出最佳参数组合\n",
    "    best_idx = df_results['test_acc'].idxmax()\n",
    "    best_params = df_results.loc[best_idx]\n",
    "    \n",
    "    print(\"=== 最佳参数组合 ===\")\n",
    "    print(f\"学习率: {best_params['learning_rate']:.4f}\")\n",
    "    print(f\"最大迭代次数: {best_params['max_iter']}\")\n",
    "    print(f\"测试集准确率: {best_params['test_acc']:.4f}\")\n",
    "    print(f\"测试集损失: {best_params['test_loss']:.4f}\")\n",
    "    \n",
    "    return df_results\n",
    "\n",
    "if __name__ == \"__main__\":\n",
    "    experiment_results = run_hyperparameter_experiment()\n",
    "    print(\"=== 模型训练结果 ===\")\n",
    "    for k, v in result.items():\n",
    "        print(f\"{k}: {v:.4f}\")"
   ]
  }
 ],
 "metadata": {
  "kernelspec": {
   "display_name": "Python 3",
   "language": "python",
   "name": "python3"
  },
  "language_info": {
   "codemirror_mode": {
    "name": "ipython",
    "version": 3
   },
   "file_extension": ".py",
   "mimetype": "text/x-python",
   "name": "python",
   "nbconvert_exporter": "python",
   "pygments_lexer": "ipython3",
   "version": "3.9.7"
  }
 },
 "nbformat": 4,
 "nbformat_minor": 4
}