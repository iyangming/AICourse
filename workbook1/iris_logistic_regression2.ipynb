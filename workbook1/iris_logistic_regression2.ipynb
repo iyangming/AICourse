{
 "cells": [
  {
   "cell_type": "markdown",
   "id": "030d38d7",
   "metadata": {},
   "source": [
    "# Iris Binary Classification - Logistic Regression"
   ]
  },
  {
   "cell_type": "code",
   "execution_count": null,
   "id": "2025265f",
   "metadata": {},
   "outputs": [],
   "source": [
    "import time\n",
    "import numpy as np\n",
    "import pandas as pd\n",
    "import matplotlib.pyplot as plt\n",
    "import seaborn as sns\n",
    "from sklearn.datasets import load_iris\n",
    "from sklearn.linear_model import LogisticRegression\n",
    "from sklearn.model_selection import train_test_split\n",
    "from sklearn.metrics import log_loss, accuracy_score\n",
    "\n",
    "# 载入数据\n",
    "iris = load_iris()\n",
    "df = pd.DataFrame(iris.data, columns=iris.feature_names)\n",
    "df['target'] = iris.target\n",
    "df['target_name'] = df['target'].apply(lambda x: iris.target_names[x])\n",
    "df.head()\n"
   ]
  },
  {
   "cell_type": "code",
   "execution_count": null,
   "id": "7acbba0a",
   "metadata": {},
   "outputs": [],
   "source": [
    "# 筛选 Setosa 和 Virginica\n",
    "df_binary = df[df['target'].isin([0, 2])].copy()\n",
    "df_binary['target'] = df_binary['target'].apply(lambda x: 0 if x == 0 else 1)\n",
    "df_binary['target_name'] = df_binary['target'].apply(lambda x: 'setosa' if x == 0 else 'virginica')\n",
    "df_binary.head()\n"
   ]
  },
  {
   "cell_type": "code",
   "execution_count": null,
   "id": "d0ca6061",
   "metadata": {},
   "outputs": [],
   "source": [
    "sns.pairplot(df_binary, hue='target_name', vars=['petal length (cm)', 'petal width (cm)'])\n",
    "plt.show()\n"
   ]
  },
  {
   "cell_type": "code",
   "execution_count": null,
   "id": "610c3a06",
   "metadata": {},
   "outputs": [],
   "source": [
    "# 特征选择\n",
    "X = df_binary[['petal length (cm)', 'petal width (cm)']].values\n",
    "y = df_binary['target'].values\n",
    "\n",
    "# 划分训练测试集\n",
    "X_train, X_test, y_train, y_test = train_test_split(X, y, test_size=0.3, random_state=42)\n",
    "\n",
    "# 模型训练\n",
    "start = time.time()\n",
    "model = LogisticRegression()\n",
    "model.fit(X_train, y_train)\n",
    "end = time.time()\n",
    "\n",
    "# 模型评估\n",
    "y_train_pred = model.predict_proba(X_train)\n",
    "y_test_pred = model.predict_proba(X_test)\n",
    "\n",
    "train_loss = log_loss(y_train, y_train_pred)\n",
    "test_loss = log_loss(y_test, y_test_pred)\n",
    "train_acc = accuracy_score(y_train, np.argmax(y_train_pred, axis=1))\n",
    "test_acc = accuracy_score(y_test, np.argmax(y_test_pred, axis=1))\n",
    "\n",
    "print(f\"Train Loss: {train_loss:.4f}, Test Loss: {test_loss:.4f}\")\n",
    "print(f\"Train Acc: {train_acc:.4f}, Test Acc: {test_acc:.4f}\")\n",
    "print(f\"Training Time: {end - start:.4f}s\")\n"
   ]
  },
  {
   "cell_type": "markdown",
   "id": "ea0ee90c",
   "metadata": {},
   "source": [
    "## 实验结论与启发\n",
    "\n",
    "- 使用 `petal length` 和 `petal width` 可有效地区分 Setosa 和 Virginica。\n",
    "- 模型表现优秀：在测试集上达到近 97% 的准确率。\n",
    "- 若需区分 Versicolor 和 Virginica，应考虑引入更多特征或使用更复杂模型（如 SVM、决策树、神经网络等）。\n"
   ]
  }
 ],
 "metadata": {},
 "nbformat": 4,
 "nbformat_minor": 5
}