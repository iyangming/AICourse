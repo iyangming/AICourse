{
  "cells": [
    {
      "cell_type": "markdown",
      "metadata": {},
      "source": [
        "# \u624b\u5199\u6570\u5b57\u56fe\u50cf\u5904\u7406\u5e76\u4fdd\u5b58\u4e3aMNIST\u683c\u5f0f"
      ]
    },
    {
      "cell_type": "code",
      "execution_count": null,
      "metadata": {},
      "outputs": [],
      "source": [
        "",
        "import matplotlib",
        "matplotlib.use('TkAgg')",
        "from PIL import Image, ImageOps",
        "import numpy as np",
        "import os",
        "import matplotlib.pyplot as plt",
        "",
        "def preprocess_image(image_path):",
        "    img = Image.open(image_path).convert(\"L\")",
        "    img = ImageOps.invert(img)",
        "    threshold = 128",
        "    img = img.point(lambda p: 255 if p > threshold else 0)",
        "    return img",
        "",
        "def resize_to_mnist(img, size=(28, 28)):",
        "    img = img.resize((20, 20), Image.LANCZOS)",
        "    new_img = Image.new(\"L\", size, 0)",
        "    upper_left = ((28 - 20) // 2, (28 - 20) // 2)",
        "    new_img.paste(img, upper_left)",
        "    return new_img",
        "",
        "def image_to_array(img):",
        "    return np.array(img, dtype=np.uint8)",
        "",
        "def save_array_to_file(arr, filename):",
        "    np.savetxt(filename, arr, fmt=\"%d\", delimiter=\",\")",
        "",
        "def load_array_from_file(filename):",
        "    return np.loadtxt(filename, delimiter=\",\", dtype=np.uint8)",
        "",
        "def process_digits(input_folder, output_folder):",
        "    os.makedirs(output_folder, exist_ok=True)",
        "    for digit in range(10):",
        "        input_path = os.path.join(input_folder, f\"{digit}.png\")",
        "        output_path = os.path.join(output_folder, f\"{digit}.csv\")",
        "        original_img = Image.open(input_path).convert(\"L\")",
        "        inverted_img = ImageOps.invert(original_img)",
        "        threshold_img = inverted_img.point(lambda p: 255 if p > 128 else 0)",
        "        img = resize_to_mnist(threshold_img)",
        "        arr = image_to_array(img)",
        "        save_array_to_file(arr, output_path)",
        "        print(f\"Saved: {output_path}\")",
        "        ",
        "        # 可视化处理过程",
        "        fig, axes = plt.subplots(1, 3, figsize=(12, 4))",
        "        axes[0].imshow(original_img, cmap='gray')",
        "        axes[0].set_title(f'Original {digit}')",
        "        axes[0].axis('off')",
        "        ",
        "        axes[1].imshow(inverted_img, cmap='gray')",
        "        axes[1].set_title(f'Inverted {digit}')",
        "        axes[1].axis('off')",
        "        ",
        "        axes[2].imshow(img, cmap='gray')",
        "        axes[2].set_title(f'MNIST {digit}')",
        "        axes[2].axis('off')",
        "        ",
        "        plt.tight_layout()",
        "        plt.show()"
      ]
    },
    {
      "cell_type": "code",
      "execution_count": null,
      "metadata": {},
      "outputs": [],
      "source": [
        "# \u793a\u4f8b\u7528\u6cd5\n",
        "process_digits(\"handwritten_digits\", \"mnist_format_digits\")\n",
        "arr = load_array_from_file(\"mnist_format_digits/3.csv\")\n",
        "print(arr.shape)"
      ]
    }
  ],
  "metadata": {
    "kernelspec": {
      "display_name": "Python 3",
      "language": "python",
      "name": "python3"
    },
    "language_info": {
      "name": "python",
      "version": "3.9"
    }
  },
  "nbformat": 4,
  "nbformat_minor": 5
}