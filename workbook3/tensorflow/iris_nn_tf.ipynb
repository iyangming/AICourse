{
 "cells": [
  {
   "cell_type": "markdown",
   "id": "c1972eb8",
   "metadata": {},
   "source": [
    "## (1) 神经网络结构设计（TensorFlow）\n",
    "我们将使用一个单层前馈神经网络（Dense 层），用于对鸢尾花数据集进行三分类任务。\n",
    "\n",
    "- 输入层：4个特征\n",
    "- 输出层：3个类别，对应鸢尾花的三个种类（使用Softmax输出）\n",
    "- 激活函数：Softmax（用于多分类）\n",
    "- 损失函数：交叉熵损失（sparse_categorical_crossentropy）\n",
    "- 优化器：Adam"
   ]
  },
  {
   "cell_type": "code",
   "execution_count": null,
   "id": "5cb7daa4",
   "metadata": {},
   "outputs": [],
   "source": [
    "import time\n",
    "import numpy as np\n",
    "import matplotlib.pyplot as plt\n",
    "import tensorflow as tf\n",
    "from sklearn.datasets import load_iris\n",
    "from sklearn.model_selection import train_test_split\n",
    "from sklearn.preprocessing import StandardScaler\n",
    "\n",
    "# 加载数据\n",
    "iris = load_iris()\n",
    "X, y = iris.data, iris.target\n",
    "\n",
    "# 数据标准化\n",
    "scaler = StandardScaler()\n",
    "X = scaler.fit_transform(X)\n",
    "\n",
    "# 数据集划分\n",
    "X_train, X_test, y_train, y_test = train_test_split(X, y, test_size=0.2, random_state=42)\n",
    "\n",
    "# 构建模型\n",
    "model = tf.keras.Sequential([\n",
    "    tf.keras.layers.Dense(3, input_shape=(4,), activation='softmax')\n",
    "])\n",
    "\n",
    "model.compile(optimizer='adam',\n",
    "              loss='sparse_categorical_crossentropy',\n",
    "              metrics=['accuracy'])\n",
    "\n",
    "# 训练模型\n",
    "start_time = time.time()\n",
    "history = model.fit(X_train, y_train, epochs=100, validation_data=(X_test, y_test), verbose=0)\n",
    "training_time = time.time() - start_time\n",
    "print(f\"训练时间：{training_time:.4f} 秒\")\n",
    "\n",
    "# 评估模型\n",
    "test_loss, test_acc = model.evaluate(X_test, y_test, verbose=0)\n",
    "print(f\"测试集准确率：{test_acc:.4f}\")\n",
    "print(f\"测试集损失：{test_loss:.4f}\")\n",
    "\n",
    "# 可视化结果\n",
    "plt.figure(figsize=(12, 5))\n",
    "plt.subplot(1, 2, 1)\n",
    "plt.plot(history.history['loss'], label='Train Loss')\n",
    "plt.plot(history.history['val_loss'], label='Test Loss')\n",
    "plt.legend()\n",
    "plt.title(\"Loss\")\n",
    "\n",
    "plt.subplot(1, 2, 2)\n",
    "plt.plot(history.history['accuracy'], label='Train Acc')\n",
    "plt.plot(history.history['val_accuracy'], label='Test Acc')\n",
    "plt.legend()\n",
    "plt.title(\"Accuracy\")\n",
    "plt.show()\n"
   ]
  },
  {
   "cell_type": "markdown",
   "id": "b7cc8197",
   "metadata": {},
   "source": [
    "## (3) 超参数调整\n",
    "尝试修改 `optimizer`（如SGD），`epochs`（例如50, 200）和 `learning_rate` 来测试不同配置对准确率和损失的影响。"
   ]
  },
  {
   "cell_type": "markdown",
   "id": "8f3705a3",
   "metadata": {},
   "source": [
    "## (4) 分析与结果\n",
    "记录每组超参数对应的测试准确率、损失和训练时间，整理为表格以对比分析。"
   ]
  },
  {
   "cell_type": "code",
   "execution_count": null,
   "id": "19a1816e",
   "metadata": {},
   "outputs": [],
   "source": [
    "def build_model():\n",
    "    model = tf.keras.Sequential([\n",
    "        tf.keras.layers.Dense(3, input_shape=(4,), activation='softmax')\n",
    "    ])\n",
    "    model.compile(optimizer='adam',\n",
    "                  loss='sparse_categorical_crossentropy',\n",
    "                  metrics=['accuracy'])\n",
    "    return model\n"
   ]
  }
 ],
 "metadata": {},
 "nbformat": 4,
 "nbformat_minor": 5
}
