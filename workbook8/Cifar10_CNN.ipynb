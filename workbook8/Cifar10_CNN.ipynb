{
 "cells": [
  {
   "cell_type": "markdown",
   "metadata": {},
   "source": [
    "# CIFAR-10 \u56fe\u50cf\u5206\u7c7b - \u5377\u79ef\u795e\u7ecf\u7f51\u7edc (CNN)\n",
    "\n",
    "\u8be5\u9879\u76ee\u4f7f\u7528 Keras \u6784\u5efa\u548c\u8bad\u7ec3\u5377\u79ef\u795e\u7ecf\u7f51\u7edc\u5bf9 CIFAR-10 \u56fe\u50cf\u8fdb\u884c\u5206\u7c7b\uff0c\u5185\u5bb9\u5305\u62ec\uff1a\n",
    "\n",
    "- \u52a0\u8f7d\u548c\u9884\u5904\u7406\u6570\u636e\n",
    "- \u6784\u5efa\u4f18\u5316\u7684 CNN \u6a21\u578b\n",
    "- \u6a21\u578b\u8bad\u7ec3\u548c\u6d4b\u8bd5\n",
    "- \u7ed8\u5236\u8bad\u7ec3\u66f2\u7ebf\n",
    "- \u4fdd\u5b58\u548c\u52a0\u8f7d\u6a21\u578b\n",
    "- \u968f\u673a\u9884\u6d4b\u5e76\u53ef\u89c6\u5316\u7ed3\u679c\n",
    "- \u5206\u6790\u6a21\u578b\u7ed3\u6784\u4e0e\u53c2\u6570\u5bf9\u6027\u80fd\u7684\u5f71\u54cd"
   ]
  },
  {
   "cell_type": "code",
   "execution_count": null,
   "metadata": {},
   "outputs": [],
   "source": [
    "# \u5bfc\u5165\u5fc5\u8981\u7684\u5e93\n",
    "import time\n",
    "import numpy as np\n",
    "import matplotlib.pyplot as plt\n",
    "from tensorflow.keras import datasets, layers, models, optimizers\n",
    "from tensorflow.keras.utils import to_categorical\n",
    "from tensorflow.keras.models import load_model\n",
    "import random"
   ]
  },
  {
   "cell_type": "code",
   "execution_count": null,
   "metadata": {},
   "outputs": [],
   "source": [
    "# \u52a0\u8f7d\u548c\u9884\u5904\u7406\u6570\u636e\n",
    "(x_train, y_train), (x_test, y_test) = datasets.cifar10.load_data()\n",
    "x_train, x_test = x_train / 255.0, x_test / 255.0\n",
    "y_train_cat = to_categorical(y_train, 10)\n",
    "y_test_cat = to_categorical(y_test, 10)"
   ]
  },
  {
   "cell_type": "code",
   "execution_count": null,
   "metadata": {},
   "outputs": [],
   "source": [
    "# \u6784\u5efa\u4f18\u5316\u540e\u7684 CNN \u6a21\u578b\n",
    "model = models.Sequential([\n",
    "    layers.Conv2D(64, (3,3), activation='relu', padding='same', input_shape=(32,32,3)),\n",
    "    layers.MaxPooling2D((2,2)),\n",
    "    layers.Conv2D(128, (3,3), activation='relu', padding='same'),\n",
    "    layers.MaxPooling2D((2,2)),\n",
    "    layers.Conv2D(128, (3,3), activation='relu', padding='same'),\n",
    "    layers.Flatten(),\n",
    "    layers.Dropout(0.5),\n",
    "    layers.Dense(128, activation='relu'),\n",
    "    layers.Dense(10, activation='softmax')\n",
    "])\n",
    "\n",
    "model.compile(optimizer=optimizers.RMSprop(learning_rate=0.0005),\n",
    "              loss='categorical_crossentropy', metrics=['accuracy'])"
   ]
  },
  {
   "cell_type": "code",
   "execution_count": null,
   "metadata": {},
   "outputs": [],
   "source": [
    "# \u6a21\u578b\u8bad\u7ec3\n",
    "start_train = time.time()\n",
    "history = model.fit(x_train, y_train_cat, epochs=15, batch_size=64, validation_split=0.2, verbose=2)\n",
    "end_train = time.time()"
   ]
  },
  {
   "cell_type": "code",
   "execution_count": null,
   "metadata": {},
   "outputs": [],
   "source": [
    "# \u6a21\u578b\u6d4b\u8bd5\n",
    "start_test = time.time()\n",
    "test_loss, test_acc = model.evaluate(x_test, y_test_cat, verbose=2)\n",
    "end_test = time.time()\n",
    "\n",
    "print(f\"\u8bad\u7ec3\u65f6\u95f4: {end_train - start_train:.2f} \u79d2\")\n",
    "print(f\"\u6d4b\u8bd5\u65f6\u95f4: {end_test - start_test:.2f} \u79d2\")\n",
    "print(f\"\u6d4b\u8bd5\u51c6\u786e\u7387: {test_acc:.4f}, \u6d4b\u8bd5\u635f\u5931: {test_loss:.4f}\")"
   ]
  },
  {
   "cell_type": "code",
   "execution_count": null,
   "metadata": {},
   "outputs": [],
   "source": [
    "# \u7ed8\u5236\u8bad\u7ec3\u8fc7\u7a0b\u66f2\u7ebf\n",
    "plt.figure(figsize=(12,4))\n",
    "plt.subplot(1,2,1)\n",
    "plt.plot(history.history['loss'], label='\u8bad\u7ec3\u635f\u5931')\n",
    "plt.plot(history.history['val_loss'], label='\u9a8c\u8bc1\u635f\u5931')\n",
    "plt.title('\u635f\u5931\u66f2\u7ebf')\n",
    "plt.xlabel('Epoch')\n",
    "plt.ylabel('Loss')\n",
    "plt.legend()\n",
    "\n",
    "plt.subplot(1,2,2)\n",
    "plt.plot(history.history['accuracy'], label='\u8bad\u7ec3\u51c6\u786e\u7387')\n",
    "plt.plot(history.history['val_accuracy'], label='\u9a8c\u8bc1\u51c6\u786e\u7387')\n",
    "plt.title('\u51c6\u786e\u7387\u66f2\u7ebf')\n",
    "plt.xlabel('Epoch')\n",
    "plt.ylabel('Accuracy')\n",
    "plt.legend()\n",
    "plt.tight_layout()\n",
    "plt.show()"
   ]
  },
  {
   "cell_type": "code",
   "execution_count": null,
   "metadata": {},
   "outputs": [],
   "source": [
    "# \u4fdd\u5b58\u6a21\u578b\n",
    "model.save('Cifar10.h5')\n",
    "print(\"\u6a21\u578b\u5df2\u4fdd\u5b58\u4e3a Cifar10.h5\")"
   ]
  },
  {
   "cell_type": "code",
   "execution_count": null,
   "metadata": {},
   "outputs": [],
   "source": [
    "# \u52a0\u8f7d\u6a21\u578b\u5e76\u968f\u673a\u9884\u6d4b10\u5f20\u56fe\u50cf\n",
    "model_loaded = load_model('Cifar10.h5')\n",
    "class_names = ['airplane','automobile','bird','cat','deer','dog','frog','horse','ship','truck']\n",
    "\n",
    "plt.figure(figsize=(12,6))\n",
    "for i in range(10):\n",
    "    idx = random.randint(0, len(x_test) - 1)\n",
    "    img = x_test[idx]\n",
    "    true_label = y_test[idx][0]\n",
    "    pred = model_loaded.predict(img.reshape(1,32,32,3))\n",
    "    pred_label = np.argmax(pred)\n",
    "    plt.subplot(2,5,i+1)\n",
    "    plt.imshow(img)\n",
    "    plt.axis('off')\n",
    "    plt.title(f\"\u771f: {class_names[true_label]}\\n\u9884\u6d4b: {class_names[pred_label]}\")\n",
    "plt.tight_layout()\n",
    "plt.show()"
   ]
  },
  {
   "cell_type": "markdown",
   "metadata": {},
   "source": [
    "### \u5b9e\u9a8c\u7ed3\u679c\u5206\u6790\uff1a\n",
    "- \u589e\u52a0\u5377\u79ef\u5c42\u6570\u548c\u5377\u79ef\u6838\u6570\u91cf\u6709\u52a9\u4e8e\u63d0\u9ad8\u51c6\u786e\u7387\u3002\n",
    "- \u4f7f\u7528 Dropout \u53ef\u6709\u6548\u7f13\u89e3\u8fc7\u62df\u5408\u3002\n",
    "- RMSprop \u5728\u5c0f\u5b66\u4e60\u7387\u4e0b\u8bad\u7ec3\u8f83\u7a33\u5b9a\u3002\n",
    "- \u6a21\u578b\u8bad\u7ec3\u65f6\u95f4\u4e0e\u7ed3\u6784\u590d\u6742\u5ea6\u6210\u6b63\u6bd4\uff0c\u9700\u6743\u8861\u3002"
   ]
  }
 ],
 "metadata": {
  "kernelspec": {
   "display_name": "Python 3",
   "language": "python",
   "name": "python3"
  },
  "language_info": {
   "name": "python"
  }
 },
 "nbformat": 4,
 "nbformat_minor": 5
}